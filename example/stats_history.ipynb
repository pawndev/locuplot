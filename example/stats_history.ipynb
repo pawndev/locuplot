{
 "cells": [
  {
   "cell_type": "code",
   "execution_count": 15,
   "metadata": {},
   "outputs": [],
   "source": [
    "# Import all dependencies\n",
    "from datetime import datetime\n",
    "import pandas as pd\n",
    "import numpy as np\n",
    "import matplotlib.pyplot as plt"
   ]
  },
  {
   "cell_type": "code",
   "execution_count": 16,
   "metadata": {
    "pycharm": {
     "name": "#%%\n"
    }
   },
   "outputs": [],
   "source": [
    "# Read stats history csv file from locust export folder\n",
    "stats_history_df = pd.read_csv('./stats/sample_stats_history.csv', sep=\",\")"
   ]
  },
  {
   "cell_type": "code",
   "execution_count": 17,
   "metadata": {
    "pycharm": {
     "name": "#%%\n"
    }
   },
   "outputs": [],
   "source": [
    "# Remove useless row\n",
    "\n",
    "# stats_history_df = stats_history_df[stats_history_df.Name != \"Aggregated\"]"
   ]
  },
  {
   "cell_type": "code",
   "execution_count": 18,
   "metadata": {
    "pycharm": {
     "name": "#%%\n"
    }
   },
   "outputs": [],
   "source": [
    "# timestamp to datetime\n",
    "stats_history_df[\"datetime\"] = stats_history_df[\"Timestamp\"].apply(lambda t: datetime.fromtimestamp(t))"
   ]
  },
  {
   "cell_type": "code",
   "execution_count": 19,
   "metadata": {
    "pycharm": {
     "name": "#%%\n"
    }
   },
   "outputs": [
    {
     "data": {
      "text/html": [
       "<div>\n",
       "<style scoped>\n",
       "    .dataframe tbody tr th:only-of-type {\n",
       "        vertical-align: middle;\n",
       "    }\n",
       "\n",
       "    .dataframe tbody tr th {\n",
       "        vertical-align: top;\n",
       "    }\n",
       "\n",
       "    .dataframe thead th {\n",
       "        text-align: right;\n",
       "    }\n",
       "</style>\n",
       "<table border=\"1\" class=\"dataframe\">\n",
       "  <thead>\n",
       "    <tr style=\"text-align: right;\">\n",
       "      <th></th>\n",
       "      <th>Timestamp</th>\n",
       "      <th>User Count</th>\n",
       "      <th>Type</th>\n",
       "      <th>Name</th>\n",
       "      <th>Requests/s</th>\n",
       "      <th>Failures/s</th>\n",
       "      <th>50%</th>\n",
       "      <th>66%</th>\n",
       "      <th>75%</th>\n",
       "      <th>80%</th>\n",
       "      <th>...</th>\n",
       "      <th>99.999%</th>\n",
       "      <th>100%</th>\n",
       "      <th>Total Request Count</th>\n",
       "      <th>Total Failure Count</th>\n",
       "      <th>Total Median Response Time</th>\n",
       "      <th>Total Average Response Time</th>\n",
       "      <th>Total Min Response Time</th>\n",
       "      <th>Total Max Response Time</th>\n",
       "      <th>Total Average Content Size</th>\n",
       "      <th>datetime</th>\n",
       "    </tr>\n",
       "  </thead>\n",
       "  <tbody>\n",
       "    <tr>\n",
       "      <th>0</th>\n",
       "      <td>1591454887</td>\n",
       "      <td>1</td>\n",
       "      <td>NaN</td>\n",
       "      <td>Aggregated</td>\n",
       "      <td>0.0</td>\n",
       "      <td>0.0</td>\n",
       "      <td>NaN</td>\n",
       "      <td>NaN</td>\n",
       "      <td>NaN</td>\n",
       "      <td>NaN</td>\n",
       "      <td>...</td>\n",
       "      <td>NaN</td>\n",
       "      <td>NaN</td>\n",
       "      <td>0</td>\n",
       "      <td>0</td>\n",
       "      <td>0</td>\n",
       "      <td>0</td>\n",
       "      <td>0</td>\n",
       "      <td>0</td>\n",
       "      <td>0</td>\n",
       "      <td>2020-06-06 16:48:07</td>\n",
       "    </tr>\n",
       "    <tr>\n",
       "      <th>1</th>\n",
       "      <td>1591454889</td>\n",
       "      <td>4</td>\n",
       "      <td>GET</td>\n",
       "      <td>GetHome</td>\n",
       "      <td>0.0</td>\n",
       "      <td>0.0</td>\n",
       "      <td>50.0</td>\n",
       "      <td>50.0</td>\n",
       "      <td>50.0</td>\n",
       "      <td>50.0</td>\n",
       "      <td>...</td>\n",
       "      <td>50.0</td>\n",
       "      <td>50.0</td>\n",
       "      <td>2</td>\n",
       "      <td>0</td>\n",
       "      <td>49</td>\n",
       "      <td>49</td>\n",
       "      <td>49</td>\n",
       "      <td>50</td>\n",
       "      <td>17157</td>\n",
       "      <td>2020-06-06 16:48:09</td>\n",
       "    </tr>\n",
       "    <tr>\n",
       "      <th>2</th>\n",
       "      <td>1591454889</td>\n",
       "      <td>4</td>\n",
       "      <td>GET</td>\n",
       "      <td>GetKnownIssues</td>\n",
       "      <td>0.0</td>\n",
       "      <td>0.0</td>\n",
       "      <td>59.0</td>\n",
       "      <td>59.0</td>\n",
       "      <td>59.0</td>\n",
       "      <td>59.0</td>\n",
       "      <td>...</td>\n",
       "      <td>59.0</td>\n",
       "      <td>59.0</td>\n",
       "      <td>3</td>\n",
       "      <td>0</td>\n",
       "      <td>59</td>\n",
       "      <td>51</td>\n",
       "      <td>12</td>\n",
       "      <td>84</td>\n",
       "      <td>15275</td>\n",
       "      <td>2020-06-06 16:48:09</td>\n",
       "    </tr>\n",
       "    <tr>\n",
       "      <th>3</th>\n",
       "      <td>1591454889</td>\n",
       "      <td>4</td>\n",
       "      <td>NaN</td>\n",
       "      <td>Aggregated</td>\n",
       "      <td>0.0</td>\n",
       "      <td>0.0</td>\n",
       "      <td>50.0</td>\n",
       "      <td>50.0</td>\n",
       "      <td>59.0</td>\n",
       "      <td>59.0</td>\n",
       "      <td>...</td>\n",
       "      <td>59.0</td>\n",
       "      <td>59.0</td>\n",
       "      <td>5</td>\n",
       "      <td>0</td>\n",
       "      <td>50</td>\n",
       "      <td>50</td>\n",
       "      <td>12</td>\n",
       "      <td>84</td>\n",
       "      <td>16027</td>\n",
       "      <td>2020-06-06 16:48:09</td>\n",
       "    </tr>\n",
       "    <tr>\n",
       "      <th>4</th>\n",
       "      <td>1591454891</td>\n",
       "      <td>8</td>\n",
       "      <td>GET</td>\n",
       "      <td>GetHome</td>\n",
       "      <td>1.0</td>\n",
       "      <td>0.0</td>\n",
       "      <td>22.0</td>\n",
       "      <td>22.0</td>\n",
       "      <td>50.0</td>\n",
       "      <td>50.0</td>\n",
       "      <td>...</td>\n",
       "      <td>50.0</td>\n",
       "      <td>50.0</td>\n",
       "      <td>4</td>\n",
       "      <td>0</td>\n",
       "      <td>22</td>\n",
       "      <td>33</td>\n",
       "      <td>12</td>\n",
       "      <td>50</td>\n",
       "      <td>17157</td>\n",
       "      <td>2020-06-06 16:48:11</td>\n",
       "    </tr>\n",
       "    <tr>\n",
       "      <th>...</th>\n",
       "      <td>...</td>\n",
       "      <td>...</td>\n",
       "      <td>...</td>\n",
       "      <td>...</td>\n",
       "      <td>...</td>\n",
       "      <td>...</td>\n",
       "      <td>...</td>\n",
       "      <td>...</td>\n",
       "      <td>...</td>\n",
       "      <td>...</td>\n",
       "      <td>...</td>\n",
       "      <td>...</td>\n",
       "      <td>...</td>\n",
       "      <td>...</td>\n",
       "      <td>...</td>\n",
       "      <td>...</td>\n",
       "      <td>...</td>\n",
       "      <td>...</td>\n",
       "      <td>...</td>\n",
       "      <td>...</td>\n",
       "      <td>...</td>\n",
       "    </tr>\n",
       "    <tr>\n",
       "      <th>896</th>\n",
       "      <td>1591455486</td>\n",
       "      <td>10</td>\n",
       "      <td>GET</td>\n",
       "      <td>GetKnownIssues</td>\n",
       "      <td>4.6</td>\n",
       "      <td>3.6</td>\n",
       "      <td>9.0</td>\n",
       "      <td>10.0</td>\n",
       "      <td>11.0</td>\n",
       "      <td>12.0</td>\n",
       "      <td>...</td>\n",
       "      <td>15.0</td>\n",
       "      <td>15.0</td>\n",
       "      <td>2653</td>\n",
       "      <td>1636</td>\n",
       "      <td>9</td>\n",
       "      <td>10</td>\n",
       "      <td>7</td>\n",
       "      <td>100</td>\n",
       "      <td>5980</td>\n",
       "      <td>2020-06-06 16:58:06</td>\n",
       "    </tr>\n",
       "    <tr>\n",
       "      <th>897</th>\n",
       "      <td>1591455486</td>\n",
       "      <td>10</td>\n",
       "      <td>NaN</td>\n",
       "      <td>Aggregated</td>\n",
       "      <td>6.6</td>\n",
       "      <td>4.9</td>\n",
       "      <td>9.0</td>\n",
       "      <td>10.0</td>\n",
       "      <td>11.0</td>\n",
       "      <td>11.0</td>\n",
       "      <td>...</td>\n",
       "      <td>21.0</td>\n",
       "      <td>21.0</td>\n",
       "      <td>3924</td>\n",
       "      <td>2427</td>\n",
       "      <td>9</td>\n",
       "      <td>10</td>\n",
       "      <td>7</td>\n",
       "      <td>102</td>\n",
       "      <td>6183</td>\n",
       "      <td>2020-06-06 16:58:06</td>\n",
       "    </tr>\n",
       "    <tr>\n",
       "      <th>898</th>\n",
       "      <td>1591455486</td>\n",
       "      <td>0</td>\n",
       "      <td>GET</td>\n",
       "      <td>GetHome</td>\n",
       "      <td>2.0</td>\n",
       "      <td>1.3</td>\n",
       "      <td>10.0</td>\n",
       "      <td>11.0</td>\n",
       "      <td>11.0</td>\n",
       "      <td>11.0</td>\n",
       "      <td>...</td>\n",
       "      <td>21.0</td>\n",
       "      <td>21.0</td>\n",
       "      <td>1272</td>\n",
       "      <td>792</td>\n",
       "      <td>9</td>\n",
       "      <td>10</td>\n",
       "      <td>7</td>\n",
       "      <td>102</td>\n",
       "      <td>6600</td>\n",
       "      <td>2020-06-06 16:58:06</td>\n",
       "    </tr>\n",
       "    <tr>\n",
       "      <th>899</th>\n",
       "      <td>1591455486</td>\n",
       "      <td>0</td>\n",
       "      <td>GET</td>\n",
       "      <td>GetKnownIssues</td>\n",
       "      <td>4.6</td>\n",
       "      <td>3.6</td>\n",
       "      <td>9.0</td>\n",
       "      <td>10.0</td>\n",
       "      <td>11.0</td>\n",
       "      <td>11.0</td>\n",
       "      <td>...</td>\n",
       "      <td>15.0</td>\n",
       "      <td>15.0</td>\n",
       "      <td>2657</td>\n",
       "      <td>1639</td>\n",
       "      <td>9</td>\n",
       "      <td>10</td>\n",
       "      <td>7</td>\n",
       "      <td>100</td>\n",
       "      <td>5977</td>\n",
       "      <td>2020-06-06 16:58:06</td>\n",
       "    </tr>\n",
       "    <tr>\n",
       "      <th>900</th>\n",
       "      <td>1591455486</td>\n",
       "      <td>0</td>\n",
       "      <td>NaN</td>\n",
       "      <td>Aggregated</td>\n",
       "      <td>6.6</td>\n",
       "      <td>4.9</td>\n",
       "      <td>9.0</td>\n",
       "      <td>10.0</td>\n",
       "      <td>11.0</td>\n",
       "      <td>11.0</td>\n",
       "      <td>...</td>\n",
       "      <td>21.0</td>\n",
       "      <td>21.0</td>\n",
       "      <td>3929</td>\n",
       "      <td>2431</td>\n",
       "      <td>9</td>\n",
       "      <td>10</td>\n",
       "      <td>7</td>\n",
       "      <td>102</td>\n",
       "      <td>6179</td>\n",
       "      <td>2020-06-06 16:58:06</td>\n",
       "    </tr>\n",
       "  </tbody>\n",
       "</table>\n",
       "<p>901 rows × 26 columns</p>\n",
       "</div>"
      ],
      "text/plain": [
       "      Timestamp  User Count Type            Name  Requests/s  Failures/s  \\\n",
       "0    1591454887           1  NaN      Aggregated         0.0         0.0   \n",
       "1    1591454889           4  GET         GetHome         0.0         0.0   \n",
       "2    1591454889           4  GET  GetKnownIssues         0.0         0.0   \n",
       "3    1591454889           4  NaN      Aggregated         0.0         0.0   \n",
       "4    1591454891           8  GET         GetHome         1.0         0.0   \n",
       "..          ...         ...  ...             ...         ...         ...   \n",
       "896  1591455486          10  GET  GetKnownIssues         4.6         3.6   \n",
       "897  1591455486          10  NaN      Aggregated         6.6         4.9   \n",
       "898  1591455486           0  GET         GetHome         2.0         1.3   \n",
       "899  1591455486           0  GET  GetKnownIssues         4.6         3.6   \n",
       "900  1591455486           0  NaN      Aggregated         6.6         4.9   \n",
       "\n",
       "      50%   66%   75%   80%  ...  99.999%  100%  Total Request Count  \\\n",
       "0     NaN   NaN   NaN   NaN  ...      NaN   NaN                    0   \n",
       "1    50.0  50.0  50.0  50.0  ...     50.0  50.0                    2   \n",
       "2    59.0  59.0  59.0  59.0  ...     59.0  59.0                    3   \n",
       "3    50.0  50.0  59.0  59.0  ...     59.0  59.0                    5   \n",
       "4    22.0  22.0  50.0  50.0  ...     50.0  50.0                    4   \n",
       "..    ...   ...   ...   ...  ...      ...   ...                  ...   \n",
       "896   9.0  10.0  11.0  12.0  ...     15.0  15.0                 2653   \n",
       "897   9.0  10.0  11.0  11.0  ...     21.0  21.0                 3924   \n",
       "898  10.0  11.0  11.0  11.0  ...     21.0  21.0                 1272   \n",
       "899   9.0  10.0  11.0  11.0  ...     15.0  15.0                 2657   \n",
       "900   9.0  10.0  11.0  11.0  ...     21.0  21.0                 3929   \n",
       "\n",
       "     Total Failure Count  Total Median Response Time  \\\n",
       "0                      0                           0   \n",
       "1                      0                          49   \n",
       "2                      0                          59   \n",
       "3                      0                          50   \n",
       "4                      0                          22   \n",
       "..                   ...                         ...   \n",
       "896                 1636                           9   \n",
       "897                 2427                           9   \n",
       "898                  792                           9   \n",
       "899                 1639                           9   \n",
       "900                 2431                           9   \n",
       "\n",
       "     Total Average Response Time  Total Min Response Time  \\\n",
       "0                              0                        0   \n",
       "1                             49                       49   \n",
       "2                             51                       12   \n",
       "3                             50                       12   \n",
       "4                             33                       12   \n",
       "..                           ...                      ...   \n",
       "896                           10                        7   \n",
       "897                           10                        7   \n",
       "898                           10                        7   \n",
       "899                           10                        7   \n",
       "900                           10                        7   \n",
       "\n",
       "     Total Max Response Time  Total Average Content Size            datetime  \n",
       "0                          0                           0 2020-06-06 16:48:07  \n",
       "1                         50                       17157 2020-06-06 16:48:09  \n",
       "2                         84                       15275 2020-06-06 16:48:09  \n",
       "3                         84                       16027 2020-06-06 16:48:09  \n",
       "4                         50                       17157 2020-06-06 16:48:11  \n",
       "..                       ...                         ...                 ...  \n",
       "896                      100                        5980 2020-06-06 16:58:06  \n",
       "897                      102                        6183 2020-06-06 16:58:06  \n",
       "898                      102                        6600 2020-06-06 16:58:06  \n",
       "899                      100                        5977 2020-06-06 16:58:06  \n",
       "900                      102                        6179 2020-06-06 16:58:06  \n",
       "\n",
       "[901 rows x 26 columns]"
      ]
     },
     "execution_count": 19,
     "metadata": {},
     "output_type": "execute_result"
    }
   ],
   "source": [
    "stats_history_df\n"
   ]
  },
  {
   "cell_type": "code",
   "execution_count": 29,
   "metadata": {
    "pycharm": {
     "name": "#%%\n"
    }
   },
   "outputs": [
    {
     "data": {
      "image/png": "[encoded data removed]",
      "text/plain": [
       "<Figure size 432x288 with 1 Axes>"
      ]
     },
     "metadata": {
      "needs_background": "light"
     },
     "output_type": "display_data"
    }
   ],
   "source": [
    "# Draw plot for request/s\n",
    "# plt.cla()\n",
    "ax1 = plt.gca()\n",
    "stats_history_df = stats_history_df[stats_history_df.Name == \"GetHome\"]\n",
    "stats_history_df.plot(x=\"datetime\", y=\"Requests/s\", ax=ax1)\n",
    "stats_history_df.plot(x=\"datetime\", y=\"Failures/s\", ax=ax1)\n",
    "# stats_history_df.plot(kind=\"scatter\", x=\"datetime\", y=\"Requests/s\", color=\"red\", ax=ax1)\n",
    "plt.show()"
   ]
  },
  {
   "cell_type": "code",
   "execution_count": 9,
   "metadata": {
    "pycharm": {
     "name": "#%%\n"
    }
   },
   "outputs": [
    {
     "data": {
      "text/plain": [
       "<Figure size 432x288 with 0 Axes>"
      ]
     },
     "metadata": {},
     "output_type": "display_data"
    }
   ],
   "source": [
    "plt.savefig('request_per_second.png', format=\"png\")"
   ]
  },
  {
   "cell_type": "code",
   "execution_count": 10,
   "metadata": {
    "pycharm": {
     "name": "#%%\n"
    }
   },
   "outputs": [],
   "source": [
    "plt.close()"
   ]
  },
  {
   "cell_type": "code",
   "execution_count": 11,
   "metadata": {
    "pycharm": {
     "name": "#%%\n"
    }
   },
   "outputs": [
    {
     "data": {
      "image/png": "[encoded data removed]",
      "text/plain": [
       "<Figure size 432x288 with 1 Axes>"
      ]
     },
     "metadata": {
      "needs_background": "light"
     },
     "output_type": "display_data"
    }
   ],
   "source": [
    "# draw plot for response times\n",
    "ax2 = plt.gca()\n",
    "stats_history_df.plot(x=\"datetime\", y=\"Total Median Response Time\", ax=ax2)\n",
    "stats_history_df.plot(x=\"datetime\", y=\"95%\", ax=ax2)\n",
    "stats_history_df.plot(x=\"datetime\", y=\"75%\", ax=ax2)\n",
    "stats_history_df.plot(x=\"datetime\", y=\"50%\", ax=ax2)\n",
    "# stats_history_df.plot(kind=\"scatter\", x=\"datetime\", y=\"Total Min Response Time\", ax=ax2,color=\"green\")\n",
    "# stats_history_df.plot(kind=\"scatter\", x=\"datetime\", y=\"Total Max Response Time\", ax=ax2, color=\"red\")\n",
    "plt.show()"
   ]
  },
  {
   "cell_type": "code",
   "execution_count": 12,
   "metadata": {
    "pycharm": {
     "name": "#%%\n"
    }
   },
   "outputs": [
    {
     "data": {
      "text/plain": [
       "<Figure size 432x288 with 0 Axes>"
      ]
     },
     "metadata": {},
     "output_type": "display_data"
    }
   ],
   "source": [
    "plt.savefig('response_time.png', format=\"png\")"
   ]
  },
  {
   "cell_type": "code",
   "execution_count": 13,
   "metadata": {
    "pycharm": {
     "name": "#%%\n"
    }
   },
   "outputs": [],
   "source": [
    "plt.close()"
   ]
  },
  {
   "cell_type": "code",
   "execution_count": 14,
   "metadata": {
    "pycharm": {
     "name": "#%%\n"
    }
   },
   "outputs": [
    {
     "data": {
      "image/png": "[encoded data removed]",
      "text/plain": [
       "<Figure size 432x288 with 1 Axes>"
      ]
     },
     "metadata": {
      "needs_background": "light"
     },
     "output_type": "display_data"
    }
   ],
   "source": [
    "# draw plot for number of users simulated\n",
    "ax2 = plt.gca()\n",
    "stats_history_df.plot(x=\"datetime\", y=\"User Count\", ax=ax2)\n",
    "plt.show()"
   ]
  },
  {
   "cell_type": "code",
   "execution_count": 15,
   "metadata": {
    "pycharm": {
     "name": "#%%\n"
    }
   },
   "outputs": [
    {
     "data": {
      "text/html": [
       "<div>\n",
       "<style scoped>\n",
       "    .dataframe tbody tr th:only-of-type {\n",
       "        vertical-align: middle;\n",
       "    }\n",
       "\n",
       "    .dataframe tbody tr th {\n",
       "        vertical-align: top;\n",
       "    }\n",
       "\n",
       "    .dataframe thead th {\n",
       "        text-align: right;\n",
       "    }\n",
       "</style>\n",
       "<table border=\"1\" class=\"dataframe\">\n",
       "  <thead>\n",
       "    <tr style=\"text-align: right;\">\n",
       "      <th></th>\n",
       "      <th>50%</th>\n",
       "      <th>66%</th>\n",
       "      <th>75%</th>\n",
       "      <th>80%</th>\n",
       "      <th>90%</th>\n",
       "      <th>95%</th>\n",
       "      <th>98%</th>\n",
       "      <th>99%</th>\n",
       "      <th>99.9%</th>\n",
       "      <th>99.99%</th>\n",
       "      <th>99.999%</th>\n",
       "      <th>100%</th>\n",
       "    </tr>\n",
       "  </thead>\n",
       "  <tbody>\n",
       "    <tr>\n",
       "      <th>1</th>\n",
       "      <td>50.0</td>\n",
       "      <td>50.0</td>\n",
       "      <td>50.0</td>\n",
       "      <td>50.0</td>\n",
       "      <td>50.0</td>\n",
       "      <td>50.0</td>\n",
       "      <td>50.0</td>\n",
       "      <td>50.0</td>\n",
       "      <td>50.0</td>\n",
       "      <td>50.0</td>\n",
       "      <td>50.0</td>\n",
       "      <td>50.0</td>\n",
       "    </tr>\n",
       "    <tr>\n",
       "      <th>2</th>\n",
       "      <td>59.0</td>\n",
       "      <td>59.0</td>\n",
       "      <td>59.0</td>\n",
       "      <td>59.0</td>\n",
       "      <td>59.0</td>\n",
       "      <td>59.0</td>\n",
       "      <td>59.0</td>\n",
       "      <td>59.0</td>\n",
       "      <td>59.0</td>\n",
       "      <td>59.0</td>\n",
       "      <td>59.0</td>\n",
       "      <td>59.0</td>\n",
       "    </tr>\n",
       "    <tr>\n",
       "      <th>4</th>\n",
       "      <td>22.0</td>\n",
       "      <td>22.0</td>\n",
       "      <td>50.0</td>\n",
       "      <td>50.0</td>\n",
       "      <td>50.0</td>\n",
       "      <td>50.0</td>\n",
       "      <td>50.0</td>\n",
       "      <td>50.0</td>\n",
       "      <td>50.0</td>\n",
       "      <td>50.0</td>\n",
       "      <td>50.0</td>\n",
       "      <td>50.0</td>\n",
       "    </tr>\n",
       "    <tr>\n",
       "      <th>5</th>\n",
       "      <td>49.0</td>\n",
       "      <td>50.0</td>\n",
       "      <td>51.0</td>\n",
       "      <td>53.0</td>\n",
       "      <td>59.0</td>\n",
       "      <td>59.0</td>\n",
       "      <td>59.0</td>\n",
       "      <td>59.0</td>\n",
       "      <td>59.0</td>\n",
       "      <td>59.0</td>\n",
       "      <td>59.0</td>\n",
       "      <td>59.0</td>\n",
       "    </tr>\n",
       "    <tr>\n",
       "      <th>7</th>\n",
       "      <td>13.0</td>\n",
       "      <td>13.0</td>\n",
       "      <td>22.0</td>\n",
       "      <td>22.0</td>\n",
       "      <td>50.0</td>\n",
       "      <td>50.0</td>\n",
       "      <td>50.0</td>\n",
       "      <td>50.0</td>\n",
       "      <td>50.0</td>\n",
       "      <td>50.0</td>\n",
       "      <td>50.0</td>\n",
       "      <td>50.0</td>\n",
       "    </tr>\n",
       "    <tr>\n",
       "      <th>...</th>\n",
       "      <td>...</td>\n",
       "      <td>...</td>\n",
       "      <td>...</td>\n",
       "      <td>...</td>\n",
       "      <td>...</td>\n",
       "      <td>...</td>\n",
       "      <td>...</td>\n",
       "      <td>...</td>\n",
       "      <td>...</td>\n",
       "      <td>...</td>\n",
       "      <td>...</td>\n",
       "      <td>...</td>\n",
       "    </tr>\n",
       "    <tr>\n",
       "      <th>893</th>\n",
       "      <td>9.0</td>\n",
       "      <td>10.0</td>\n",
       "      <td>11.0</td>\n",
       "      <td>12.0</td>\n",
       "      <td>13.0</td>\n",
       "      <td>14.0</td>\n",
       "      <td>16.0</td>\n",
       "      <td>16.0</td>\n",
       "      <td>16.0</td>\n",
       "      <td>16.0</td>\n",
       "      <td>16.0</td>\n",
       "      <td>16.0</td>\n",
       "    </tr>\n",
       "    <tr>\n",
       "      <th>895</th>\n",
       "      <td>10.0</td>\n",
       "      <td>11.0</td>\n",
       "      <td>11.0</td>\n",
       "      <td>11.0</td>\n",
       "      <td>12.0</td>\n",
       "      <td>14.0</td>\n",
       "      <td>21.0</td>\n",
       "      <td>21.0</td>\n",
       "      <td>21.0</td>\n",
       "      <td>21.0</td>\n",
       "      <td>21.0</td>\n",
       "      <td>21.0</td>\n",
       "    </tr>\n",
       "    <tr>\n",
       "      <th>896</th>\n",
       "      <td>9.0</td>\n",
       "      <td>10.0</td>\n",
       "      <td>11.0</td>\n",
       "      <td>12.0</td>\n",
       "      <td>13.0</td>\n",
       "      <td>14.0</td>\n",
       "      <td>15.0</td>\n",
       "      <td>15.0</td>\n",
       "      <td>15.0</td>\n",
       "      <td>15.0</td>\n",
       "      <td>15.0</td>\n",
       "      <td>15.0</td>\n",
       "    </tr>\n",
       "    <tr>\n",
       "      <th>898</th>\n",
       "      <td>10.0</td>\n",
       "      <td>11.0</td>\n",
       "      <td>11.0</td>\n",
       "      <td>11.0</td>\n",
       "      <td>12.0</td>\n",
       "      <td>14.0</td>\n",
       "      <td>21.0</td>\n",
       "      <td>21.0</td>\n",
       "      <td>21.0</td>\n",
       "      <td>21.0</td>\n",
       "      <td>21.0</td>\n",
       "      <td>21.0</td>\n",
       "    </tr>\n",
       "    <tr>\n",
       "      <th>899</th>\n",
       "      <td>9.0</td>\n",
       "      <td>10.0</td>\n",
       "      <td>11.0</td>\n",
       "      <td>11.0</td>\n",
       "      <td>12.0</td>\n",
       "      <td>14.0</td>\n",
       "      <td>15.0</td>\n",
       "      <td>15.0</td>\n",
       "      <td>15.0</td>\n",
       "      <td>15.0</td>\n",
       "      <td>15.0</td>\n",
       "      <td>15.0</td>\n",
       "    </tr>\n",
       "  </tbody>\n",
       "</table>\n",
       "<p>600 rows × 12 columns</p>\n",
       "</div>"
      ],
      "text/plain": [
       "      50%   66%   75%   80%   90%   95%   98%   99%  99.9%  99.99%  99.999%  \\\n",
       "1    50.0  50.0  50.0  50.0  50.0  50.0  50.0  50.0   50.0    50.0     50.0   \n",
       "2    59.0  59.0  59.0  59.0  59.0  59.0  59.0  59.0   59.0    59.0     59.0   \n",
       "4    22.0  22.0  50.0  50.0  50.0  50.0  50.0  50.0   50.0    50.0     50.0   \n",
       "5    49.0  50.0  51.0  53.0  59.0  59.0  59.0  59.0   59.0    59.0     59.0   \n",
       "7    13.0  13.0  22.0  22.0  50.0  50.0  50.0  50.0   50.0    50.0     50.0   \n",
       "..    ...   ...   ...   ...   ...   ...   ...   ...    ...     ...      ...   \n",
       "893   9.0  10.0  11.0  12.0  13.0  14.0  16.0  16.0   16.0    16.0     16.0   \n",
       "895  10.0  11.0  11.0  11.0  12.0  14.0  21.0  21.0   21.0    21.0     21.0   \n",
       "896   9.0  10.0  11.0  12.0  13.0  14.0  15.0  15.0   15.0    15.0     15.0   \n",
       "898  10.0  11.0  11.0  11.0  12.0  14.0  21.0  21.0   21.0    21.0     21.0   \n",
       "899   9.0  10.0  11.0  11.0  12.0  14.0  15.0  15.0   15.0    15.0     15.0   \n",
       "\n",
       "     100%  \n",
       "1    50.0  \n",
       "2    59.0  \n",
       "4    50.0  \n",
       "5    59.0  \n",
       "7    50.0  \n",
       "..    ...  \n",
       "893  16.0  \n",
       "895  21.0  \n",
       "896  15.0  \n",
       "898  21.0  \n",
       "899  15.0  \n",
       "\n",
       "[600 rows x 12 columns]"
      ]
     },
     "execution_count": 15,
     "metadata": {},
     "output_type": "execute_result"
    }
   ],
   "source": [
    "# DataFrame display x%ile\n",
    "\n",
    "percentile_df = stats_history_df[[\"50%\",\"66%\",\"75%\",\"80%\",\"90%\",\"95%\",\"98%\",\"99%\",\"99.9%\",\"99.99%\",\"99.999%\",\"100%\"]]\n",
    "percentile_df"
   ]
  },
  {
   "cell_type": "code",
   "execution_count": 16,
   "metadata": {
    "pycharm": {
     "name": "#%%\n"
    }
   },
   "outputs": [
    {
     "data": {
      "text/plain": [
       "Requests/s     3.254867\n",
       "50%            9.596667\n",
       "66%           10.185000\n",
       "75%           11.218333\n",
       "80%           11.765000\n",
       "90%           14.046667\n",
       "95%           18.380000\n",
       "98%           24.476667\n",
       "99%           24.560000\n",
       "99.9%         24.560000\n",
       "99.99%        24.560000\n",
       "99.999%       24.560000\n",
       "100%          24.560000\n",
       "dtype: float64"
      ]
     },
     "execution_count": 16,
     "metadata": {},
     "output_type": "execute_result"
    }
   ],
   "source": [
    "stats_history_df[[\"Requests/s\", \"50%\",\"66%\",\"75%\",\"80%\",\"90%\",\"95%\",\"98%\",\"99%\",\"99.9%\",\"99.99%\",\"99.999%\",\"100%\"]].mean()"
   ]
  },
  {
   "cell_type": "code",
   "execution_count": 17,
   "metadata": {},
   "outputs": [],
   "source": [
    "stats_history_home_df = stats_history_df[stats_history_df.Name == \"GetHome\"]"
   ]
  },
  {
   "cell_type": "code",
   "execution_count": 18,
   "metadata": {},
   "outputs": [
    {
     "data": {
      "image/png": "[encoded data removed]",
      "text/plain": [
       "<Figure size 432x288 with 1 Axes>"
      ]
     },
     "metadata": {
      "needs_background": "light"
     },
     "output_type": "display_data"
    }
   ],
   "source": [
    "# Draw plot for request/s for GetHome\n",
    "ax1 = plt.gca()\n",
    "stats_history_home_df.plot(x=\"datetime\", y=\"Requests/s\", ax=ax1)\n",
    "stats_history_home_df.plot(x=\"datetime\", y=\"Failures/s\", ax=ax1)\n",
    "# stats_history_df.plot(kind=\"scatter\", x=\"datetime\", y=\"Requests/s\", color=\"red\", ax=ax1)\n",
    "plt.show()"
   ]
  },
  {
   "cell_type": "code",
   "execution_count": 21,
   "metadata": {},
   "outputs": [
    {
     "data": {
      "text/plain": [
       "{'GetHome':       Timestamp  User Count Type     Name  Requests/s  Failures/s   50%   66%  \\\n",
       " 1    1591454889           4  GET  GetHome         0.0         0.0  50.0  50.0   \n",
       " 4    1591454891           8  GET  GetHome         1.0         0.0  22.0  22.0   \n",
       " 7    1591454893          10  GET  GetHome         1.0         0.0  13.0  13.0   \n",
       " 10   1591454895          10  GET  GetHome         1.0         0.0  12.0  13.0   \n",
       " 13   1591454897          10  GET  GetHome         1.0         0.0  12.0  12.0   \n",
       " ..          ...         ...  ...      ...         ...         ...   ...   ...   \n",
       " 886  1591455480          10  GET  GetHome         1.8         1.3  10.0  12.0   \n",
       " 889  1591455482          10  GET  GetHome         2.0         1.3  11.0  11.0   \n",
       " 892  1591455484          10  GET  GetHome         1.9         1.2   9.0  11.0   \n",
       " 895  1591455486          10  GET  GetHome         2.0         1.3  10.0  11.0   \n",
       " 898  1591455486           0  GET  GetHome         2.0         1.3  10.0  11.0   \n",
       " \n",
       "       75%   80%  ...  99.999%  100%  Total Request Count  Total Failure Count  \\\n",
       " 1    50.0  50.0  ...     50.0  50.0                    2                    0   \n",
       " 4    50.0  50.0  ...     50.0  50.0                    4                    0   \n",
       " 7    22.0  22.0  ...     50.0  50.0                    7                    0   \n",
       " 10   22.0  22.0  ...     50.0  50.0                    8                    0   \n",
       " 13   17.0  17.0  ...     50.0  50.0                   13                    0   \n",
       " ..    ...   ...  ...      ...   ...                  ...                  ...   \n",
       " 886  12.0  12.0  ...     25.0  25.0                 1258                  782   \n",
       " 889  12.0  12.0  ...     14.0  14.0                 1261                  784   \n",
       " 892  11.0  12.0  ...     14.0  14.0                 1265                  788   \n",
       " 895  11.0  11.0  ...     21.0  21.0                 1271                  791   \n",
       " 898  11.0  11.0  ...     21.0  21.0                 1272                  792   \n",
       " \n",
       "      Total Median Response Time  Total Average Response Time  \\\n",
       " 1                            49                           49   \n",
       " 4                            22                           33   \n",
       " 7                            13                           23   \n",
       " 10                           12                           22   \n",
       " 13                           12                           18   \n",
       " ..                          ...                          ...   \n",
       " 886                           9                           10   \n",
       " 889                           9                           10   \n",
       " 892                           9                           10   \n",
       " 895                           9                           10   \n",
       " 898                           9                           10   \n",
       " \n",
       "      Total Min Response Time  Total Max Response Time  \\\n",
       " 1                         49                       50   \n",
       " 4                         12                       50   \n",
       " 7                          9                       50   \n",
       " 10                         9                       50   \n",
       " 13                         9                       50   \n",
       " ..                       ...                      ...   \n",
       " 886                        7                      102   \n",
       " 889                        7                      102   \n",
       " 892                        7                      102   \n",
       " 895                        7                      102   \n",
       " 898                        7                      102   \n",
       " \n",
       "      Total Average Content Size            datetime  \n",
       " 1                         17157 2020-06-06 16:48:09  \n",
       " 4                         17157 2020-06-06 16:48:11  \n",
       " 7                         17157 2020-06-06 16:48:13  \n",
       " 10                        17157 2020-06-06 16:48:15  \n",
       " 13                        17157 2020-06-06 16:48:17  \n",
       " ..                          ...                 ...  \n",
       " 886                        6618 2020-06-06 16:58:00  \n",
       " 889                        6616 2020-06-06 16:58:02  \n",
       " 892                        6595 2020-06-06 16:58:04  \n",
       " 895                        6605 2020-06-06 16:58:06  \n",
       " 898                        6600 2020-06-06 16:58:06  \n",
       " \n",
       " [300 rows x 26 columns],\n",
       " 'GetKnownIssues':       Timestamp  User Count Type            Name  Requests/s  Failures/s  \\\n",
       " 2    1591454889           4  GET  GetKnownIssues        0.00         0.0   \n",
       " 5    1591454891           8  GET  GetKnownIssues        1.00         0.0   \n",
       " 8    1591454893          10  GET  GetKnownIssues        2.50         0.0   \n",
       " 11   1591454895          10  GET  GetKnownIssues        3.20         0.0   \n",
       " 14   1591454897          10  GET  GetKnownIssues        4.12         0.0   \n",
       " ..          ...         ...  ...             ...         ...         ...   \n",
       " 887  1591455480          10  GET  GetKnownIssues        4.60         3.5   \n",
       " 890  1591455482          10  GET  GetKnownIssues        4.50         3.5   \n",
       " 893  1591455484          10  GET  GetKnownIssues        4.60         3.7   \n",
       " 896  1591455486          10  GET  GetKnownIssues        4.60         3.6   \n",
       " 899  1591455486           0  GET  GetKnownIssues        4.60         3.6   \n",
       " \n",
       "       50%   66%   75%   80%  ...  99.999%  100%  Total Request Count  \\\n",
       " 2    59.0  59.0  59.0  59.0  ...     59.0  59.0                    3   \n",
       " 5    49.0  50.0  51.0  53.0  ...     59.0  59.0                   11   \n",
       " 8    11.0  14.0  50.0  51.0  ...     59.0  59.0                   22   \n",
       " 11   11.0  12.0  14.0  49.0  ...     59.0  59.0                   33   \n",
       " 14   11.0  12.0  12.0  14.0  ...     59.0  59.0                   42   \n",
       " ..    ...   ...   ...   ...  ...      ...   ...                  ...   \n",
       " 887   9.0  10.0  11.0  12.0  ...     18.0  18.0                 2628   \n",
       " 890   9.0  10.0  11.0  11.0  ...     16.0  16.0                 2640   \n",
       " 893   9.0  10.0  11.0  12.0  ...     16.0  16.0                 2646   \n",
       " 896   9.0  10.0  11.0  12.0  ...     15.0  15.0                 2653   \n",
       " 899   9.0  10.0  11.0  11.0  ...     15.0  15.0                 2657   \n",
       " \n",
       "      Total Failure Count  Total Median Response Time  \\\n",
       " 2                      0                          59   \n",
       " 5                      0                          49   \n",
       " 8                      0                          11   \n",
       " 11                     0                          11   \n",
       " 14                     0                          11   \n",
       " ..                   ...                         ...   \n",
       " 887                 1617                           9   \n",
       " 890                 1626                           9   \n",
       " 893                 1629                           9   \n",
       " 896                 1636                           9   \n",
       " 899                 1639                           9   \n",
       " \n",
       "      Total Average Response Time  Total Min Response Time  \\\n",
       " 2                             51                       12   \n",
       " 5                             36                       10   \n",
       " 8                             27                        9   \n",
       " 11                            22                        9   \n",
       " 14                            19                        9   \n",
       " ..                           ...                      ...   \n",
       " 887                           10                        7   \n",
       " 890                           10                        7   \n",
       " 893                           10                        7   \n",
       " 896                           10                        7   \n",
       " 899                           10                        7   \n",
       " \n",
       "      Total Max Response Time  Total Average Content Size            datetime  \n",
       " 2                         84                       15275 2020-06-06 16:48:09  \n",
       " 5                         84                       15275 2020-06-06 16:48:11  \n",
       " 8                         84                       15275 2020-06-06 16:48:13  \n",
       " 11                        84                       15275 2020-06-06 16:48:15  \n",
       " 14                        84                       15275 2020-06-06 16:48:17  \n",
       " ..                       ...                         ...                 ...  \n",
       " 887                      100                        6001 2020-06-06 16:58:00  \n",
       " 890                      100                        5992 2020-06-06 16:58:02  \n",
       " 893                      100                        5995 2020-06-06 16:58:04  \n",
       " 896                      100                        5980 2020-06-06 16:58:06  \n",
       " 899                      100                        5977 2020-06-06 16:58:06  \n",
       " \n",
       " [300 rows x 26 columns]}"
      ]
     },
     "execution_count": 21,
     "metadata": {},
     "output_type": "execute_result"
    }
   ],
   "source": [
    "dict(tuple(stats_history_df.groupby('Name')))"
   ]
  },
  {
   "cell_type": "code",
   "execution_count": null,
   "metadata": {},
   "outputs": [],
   "source": []
  }
 ],
 "metadata": {
  "kernelspec": {
   "display_name": "Python 3",
   "language": "python",
   "name": "python3"
  },
  "language_info": {
   "codemirror_mode": {
    "name": "ipython",
    "version": 3
   },
   "file_extension": ".py",
   "mimetype": "text/x-python",
   "name": "python",
   "nbconvert_exporter": "python",
   "pygments_lexer": "ipython3",
   "version": "3.8.2"
  }
 },
 "nbformat": 4,
 "nbformat_minor": 1
}